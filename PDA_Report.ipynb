{
 "cells": [
  {
   "cell_type": "markdown",
   "metadata": {},
   "source": [
    "# Python Data Analysis Report\n",
    "\n",
    "## Prevalence and Factors Associated with Hypertension among People Living with HIV (PLWHIV) \n",
    "\n",
    "<!-- ### Data Analysis Plan:\n",
    "1. Introduction\n",
    "2. Exploratory data analysis\n",
    "3. Prevalence of hypertension in PLWHIV on ART or not\n",
    "4. Factors associated with hypertension in PLWHIV on ART or not\n",
    "5. Conclusion \n",
    "6. Recommendations -->\n",
    "\n",
    "*Boni Maxime Ale*\n",
    "\n",
    "*NYC Data Science Academy*\n",
    "\n",
    "*21 February 2022*"
   ]
  },
  {
   "cell_type": "markdown",
   "metadata": {},
   "source": [
    "### Introduction\n",
    "Hypertension is a major modifiable risk factor for cardiovascular diseases (CVD) globally. In low- and middle-income settings, including sub-Saharan Africa (SSA), hypertension prevalence has been increasing rapidly over the past several decades. The World Health Organization (WHO) estimates that 46% of individuals >25 years in SSA have hypertension, with rising rates due to demographic transitions that have led to sedentary lifestyles, smoking, harmful alcohol use and consumption of processed foods [1–3]. Estimates of hypertension prevalence in Kenya are high (ranging from 12.6–36.9%) with higher rates in urban areas [1, 4, 5]. Older age, higher body mass index (BMI), alcohol consumption, cigarette smoking, and higher socioeconomic status have been associated with hypertension in previous studies in Kenya [5–7].\n",
    "\n",
    "However, hypertension diagnosis and treatment are often delayed due to its asymptomatic nature, leading to increased risk of complications and mortality [8]. In SSA, screening, diagnosis, and treatment remain inadequate [9] and a recent study found that 40% of individuals with hypertension in East and West Africa were unaware of their status. The WHO 2017 report on non-communicable diseases (NCD) risk factors identified hypertension as the leading cause of death across income levels [10]. In 2015, hypertension caused an estimated 7.5 million deaths, accounting for 12.8% of all deaths globally [11]. In particular, sub-Saharan Africa (SSA) is facing a dual burden of communicable and non-communicable diseases, including CVD and cancers, with fewer resources for managing NCD [1, 12, 13].\n",
    "\n",
    "The widespread use of antiretroviral therapy (ART) in SSA has resulted in a near normal life expectancy among persons with HIV (PWH); overall approximately 76% of PWH in SSA are virally suppressed [14]. This increased lifespan, however, may lead to an increased risk of NCD, including hypertension, due to the HIV virus and ART toxicity [14–17]. Studies on hypertension in PWH have shown varied results, some showing higher prevalence of hypertension while others showing no differences or lower prevalence of hypertension among PWH [18, 19]. The majority of studies have included PWH who are ART naïve or on ART but with poorly controlled viral loads compared to HIV-negative individuals in SSA [15, 18, 20, 21]. Data are lacking among PWH who are virally suppressed on ART. We sought to estimate the prevalence of hypertension among virally suppressed PWH on long-term ART compared to HIV-negative adults in western Kenya and identify factors associated with hypertension. These data can help guide prevention strategies and inform allocation of resources for integrated hypertension and HIV management."
   ]
  },
  {
   "cell_type": "markdown",
   "metadata": {},
   "source": [
    "### Materials and Methods\n",
    "\n",
    "* Study design and Setting \n",
    "\n",
    "\n",
    "* Definition of variables\n",
    "\n",
    "\n",
    "\n",
    "* Statistical Analysis"
   ]
  },
  {
   "cell_type": "markdown",
   "metadata": {},
   "source": [
    "### Data Analysis and Results\n",
    "\n",
    "* Exploratory Data Analysis"
   ]
  },
  {
   "cell_type": "code",
   "execution_count": 2,
   "metadata": {},
   "outputs": [],
   "source": [
    "## Import library \n",
    "import pandas as pd\n",
    "import matplotlib.pyplot as plt"
   ]
  },
  {
   "cell_type": "code",
   "execution_count": 3,
   "metadata": {},
   "outputs": [
    {
     "name": "stdout",
     "output_type": "stream",
     "text": [
      "<class 'pandas.core.frame.DataFrame'>\n",
      "DatetimeIndex: 43938 entries, 2008-01-01 to 2016-01-01\n",
      "Data columns (total 12 columns):\n",
      " #   Column        Non-Null Count  Dtype  \n",
      "---  ------        --------------  -----  \n",
      " 0   sex           43935 non-null  float64\n",
      " 1   age           43928 non-null  float64\n",
      " 2   priorhivtest  43786 non-null  float64\n",
      " 3   treatment     2462 non-null   float64\n",
      " 4   hivresult     42737 non-null  float64\n",
      " 5   hivnew        40275 non-null  float64\n",
      " 6   cd4_cat       3055 non-null   float64\n",
      " 7   bp_cat        43536 non-null  float64\n",
      " 8   bmi_cat       43535 non-null  float64\n",
      " 9   stisymptoms   43938 non-null  int64  \n",
      " 10  tbsymptoms    43938 non-null  int64  \n",
      " 11  diabsymptoms  43938 non-null  int64  \n",
      "dtypes: float64(9), int64(3)\n",
      "memory usage: 4.4 MB\n",
      "None\n"
     ]
    }
   ],
   "source": [
    "## Loading data\n",
    "hiv = pd.read_csv(\"dataset_plos.csv\", index_col = \"year\", parse_dates = True)\n",
    "\n",
    "## check the first 5 observations of the data set\n",
    "hiv.head(5)\n",
    "print(hiv.info())"
   ]
  },
  {
   "cell_type": "code",
   "execution_count": 4,
   "metadata": {},
   "outputs": [],
   "source": [
    "## let's create a copy of hiv dataset for data wrangling\n",
    "hiv2 = hiv.copy()"
   ]
  },
  {
   "cell_type": "code",
   "execution_count": 5,
   "metadata": {},
   "outputs": [
    {
     "name": "stdout",
     "output_type": "stream",
     "text": [
      "female    22178\n",
      "male      21757\n",
      "Name: sex, dtype: int64\n",
      "female    0.504791\n",
      "male      0.495209\n",
      "Name: sex, dtype: float64\n"
     ]
    }
   ],
   "source": [
    "## Gender\n",
    "## change sex data type \n",
    "hiv2['sex'] = hiv2['sex'].astype('category')\n",
    "## rename gender category\n",
    "hiv2['sex'] = hiv2['sex'].cat.rename_categories({2:\"female\",1: \"male\"})\n",
    "\n",
    "## let's decribe the number of male and female \n",
    "print(hiv2[\"sex\"].value_counts())\n",
    "\n",
    "## and get there percentage\n",
    "print(hiv2[\"sex\"].value_counts(normalize = True))"
   ]
  },
  {
   "cell_type": "code",
   "execution_count": 6,
   "metadata": {},
   "outputs": [
    {
     "name": "stdout",
     "output_type": "stream",
     "text": [
      "Normal    34588\n",
      "High       8948\n",
      "Name: bp_cat2, dtype: int64\n",
      "Normal    0.794469\n",
      "High      0.205531\n",
      "Name: bp_cat2, dtype: float64\n"
     ]
    }
   ],
   "source": [
    "## Blood Pressure\n",
    "## let's convert the 7 modalities of bp_cat into two (normal and high)\n",
    "conversion_dictionary = {1 : \"Normal\",\n",
    "                        2: \"Normal\",\n",
    "                        3: \"Normal\",\n",
    "                        4 : \"High\",\n",
    "                        5 : \"High\",\n",
    "                        6 : \"High\",\n",
    "                        7 : \"Normal\"\n",
    "                        }\n",
    "\n",
    "hiv2['bp_cat2'] = hiv2['bp_cat'].replace(conversion_dictionary)\n",
    "\n",
    "## let's see the frequency in each group\n",
    "print(hiv2[\"bp_cat2\"].value_counts())\n",
    "\n",
    "print(hiv2[\"bp_cat2\"].value_counts(normalize = True))"
   ]
  },
  {
   "cell_type": "code",
   "execution_count": 7,
   "metadata": {},
   "outputs": [
    {
     "data": {
      "text/html": [
       "<div>\n",
       "<style scoped>\n",
       "    .dataframe tbody tr th:only-of-type {\n",
       "        vertical-align: middle;\n",
       "    }\n",
       "\n",
       "    .dataframe tbody tr th {\n",
       "        vertical-align: top;\n",
       "    }\n",
       "\n",
       "    .dataframe thead th {\n",
       "        text-align: right;\n",
       "    }\n",
       "</style>\n",
       "<table border=\"1\" class=\"dataframe\">\n",
       "  <thead>\n",
       "    <tr style=\"text-align: right;\">\n",
       "      <th>bp_cat2</th>\n",
       "      <th>High</th>\n",
       "      <th>Normal</th>\n",
       "      <th>All</th>\n",
       "    </tr>\n",
       "    <tr>\n",
       "      <th>sex</th>\n",
       "      <th></th>\n",
       "      <th></th>\n",
       "      <th></th>\n",
       "    </tr>\n",
       "  </thead>\n",
       "  <tbody>\n",
       "    <tr>\n",
       "      <th>male</th>\n",
       "      <td>4586</td>\n",
       "      <td>17000</td>\n",
       "      <td>21586</td>\n",
       "    </tr>\n",
       "    <tr>\n",
       "      <th>female</th>\n",
       "      <td>4362</td>\n",
       "      <td>17585</td>\n",
       "      <td>21947</td>\n",
       "    </tr>\n",
       "    <tr>\n",
       "      <th>All</th>\n",
       "      <td>8948</td>\n",
       "      <td>34585</td>\n",
       "      <td>43533</td>\n",
       "    </tr>\n",
       "  </tbody>\n",
       "</table>\n",
       "</div>"
      ],
      "text/plain": [
       "bp_cat2  High  Normal    All\n",
       "sex                         \n",
       "male     4586   17000  21586\n",
       "female   4362   17585  21947\n",
       "All      8948   34585  43533"
      ]
     },
     "execution_count": 7,
     "metadata": {},
     "output_type": "execute_result"
    }
   ],
   "source": [
    "## let's see the proportion of hypertension by gender\n",
    "pd.crosstab(hiv2[\"sex\"], hiv2[\"bp_cat2\"], margins = True)"
   ]
  },
  {
   "cell_type": "code",
   "execution_count": 8,
   "metadata": {},
   "outputs": [],
   "source": [
    "# some imports to set up plotting\n",
    "import matplotlib.pyplot as plt\n",
    "# pip install seaborn\n",
    "import seaborn as sns"
   ]
  },
  {
   "cell_type": "code",
   "execution_count": 11,
   "metadata": {},
   "outputs": [
    {
     "data": {
      "image/png": "[encoded data removed]",
      "text/plain": [
       "<Figure size 432x288 with 1 Axes>"
      ]
     },
     "metadata": {
      "image/png": {
       "height": 262,
       "width": 401
      },
      "needs_background": "light"
     },
     "output_type": "display_data"
    }
   ],
   "source": [
    "# Graphics in retina format are more sharp and legible\n",
    "%config InlineBackend.figure_format = 'retina'\n",
    "sns.countplot(x=\"bp_cat2\", hue=\"sex\", data=hiv2);"
   ]
  }
 ],
 "metadata": {
  "kernelspec": {
   "display_name": "Python 3",
   "language": "python",
   "name": "python3"
  },
  "language_info": {
   "codemirror_mode": {
    "name": "ipython",
    "version": 3
   },
   "file_extension": ".py",
   "mimetype": "text/x-python",
   "name": "python",
   "nbconvert_exporter": "python",
   "pygments_lexer": "ipython3",
   "version": "3.8.3"
  }
 },
 "nbformat": 4,
 "nbformat_minor": 4
}
